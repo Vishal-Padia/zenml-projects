{
 "cells": [
  {
   "attachments": {},
   "cell_type": "markdown",
   "metadata": {},
   "source": [
    "# Kickstart your ZenML Projects with the ZenML Hub\n",
    "\n",
    "The ZenML Hub ... TODO\n",
    "\n",
    "Let's get started and install and initialize ZenML:"
   ]
  },
  {
   "cell_type": "code",
   "execution_count": 1,
   "metadata": {},
   "outputs": [
    {
     "name": "stdout",
     "output_type": "stream",
     "text": [
      "Requirement already satisfied: zenml in /Users/felix/.pyenv/versions/3.8.13/envs/zenmllama/lib/python3.8/site-packages (0.37.0)\n",
      "Requirement already satisfied: docker<6.1.0,>=6.0.0 in /Users/felix/.pyenv/versions/3.8.13/envs/zenmllama/lib/python3.8/site-packages (from zenml) (6.0.1)\n",
      "Requirement already satisfied: gitpython<4.0.0,>=3.1.18 in /Users/felix/.pyenv/versions/3.8.13/envs/zenmllama/lib/python3.8/site-packages (from zenml) (3.1.31)\n",
      "Requirement already satisfied: pandas>=1.1.5 in /Users/felix/.pyenv/versions/3.8.13/envs/zenmllama/lib/python3.8/site-packages (from zenml) (1.5.3)\n",
      "Requirement already satisfied: sqlalchemy_utils==0.38.3 in /Users/felix/.pyenv/versions/3.8.13/envs/zenmllama/lib/python3.8/site-packages (from zenml) (0.38.3)\n",
      "Requirement already satisfied: click-params<0.4.0,>=0.3.0 in /Users/felix/.pyenv/versions/3.8.13/envs/zenmllama/lib/python3.8/site-packages (from zenml) (0.3.0)\n",
      "Requirement already satisfied: python-terraform<0.11.0,>=0.10.1 in /Users/felix/.pyenv/versions/3.8.13/envs/zenmllama/lib/python3.8/site-packages (from zenml) (0.10.1)\n",
      "Requirement already satisfied: analytics-python<2.0.0,>=1.4.0 in /Users/felix/.pyenv/versions/3.8.13/envs/zenmllama/lib/python3.8/site-packages (from zenml) (1.4.post1)\n",
      "Requirement already satisfied: passlib[bcrypt]<1.8.0,>=1.7.4 in /Users/felix/.pyenv/versions/3.8.13/envs/zenmllama/lib/python3.8/site-packages (from zenml) (1.7.4)\n",
      "Requirement already satisfied: distro<2.0.0,>=1.6.0 in /Users/felix/.pyenv/versions/3.8.13/envs/zenmllama/lib/python3.8/site-packages (from zenml) (1.8.0)\n",
      "Requirement already satisfied: click<9.0.0,>=8.0.1 in /Users/felix/.pyenv/versions/3.8.13/envs/zenmllama/lib/python3.8/site-packages (from zenml) (8.1.3)\n",
      "Requirement already satisfied: python-dateutil<3.0.0,>=2.8.1 in /Users/felix/.pyenv/versions/3.8.13/envs/zenmllama/lib/python3.8/site-packages (from zenml) (2.8.2)\n",
      "Requirement already satisfied: pyyaml<6.0.0,>=5.4.1 in /Users/felix/.pyenv/versions/3.8.13/envs/zenmllama/lib/python3.8/site-packages (from zenml) (5.4.1)\n",
      "Requirement already satisfied: httplib2<0.20,>=0.19.1 in /Users/felix/.pyenv/versions/3.8.13/envs/zenmllama/lib/python3.8/site-packages (from zenml) (0.19.1)\n",
      "Requirement already satisfied: alembic<1.9.0,>=1.8.1 in /Users/felix/.pyenv/versions/3.8.13/envs/zenmllama/lib/python3.8/site-packages (from zenml) (1.8.1)\n",
      "Requirement already satisfied: pymysql<1.1.0,>=1.0.2 in /Users/felix/.pyenv/versions/3.8.13/envs/zenmllama/lib/python3.8/site-packages (from zenml) (1.0.3)\n",
      "Requirement already satisfied: pyparsing<3,>=2.4.0 in /Users/felix/.pyenv/versions/3.8.13/envs/zenmllama/lib/python3.8/site-packages (from zenml) (2.4.7)\n",
      "Requirement already satisfied: sqlmodel<0.1.0,>=0.0.8 in /Users/felix/.pyenv/versions/3.8.13/envs/zenmllama/lib/python3.8/site-packages (from zenml) (0.0.8)\n",
      "Requirement already satisfied: pydantic<1.11,>=1.9.0 in /Users/felix/.pyenv/versions/3.8.13/envs/zenmllama/lib/python3.8/site-packages (from zenml) (1.10.7)\n",
      "Requirement already satisfied: rich[jupyter]<13.0.0,>=12.0.0 in /Users/felix/.pyenv/versions/3.8.13/envs/zenmllama/lib/python3.8/site-packages (from zenml) (12.6.0)\n",
      "Requirement already satisfied: SQLAlchemy>=1.3 in /Users/felix/.pyenv/versions/3.8.13/envs/zenmllama/lib/python3.8/site-packages (from sqlalchemy_utils==0.38.3->zenml) (1.4.41)\n",
      "Requirement already satisfied: importlib-resources in /Users/felix/.pyenv/versions/3.8.13/envs/zenmllama/lib/python3.8/site-packages (from alembic<1.9.0,>=1.8.1->zenml) (5.12.0)\n",
      "Requirement already satisfied: Mako in /Users/felix/.pyenv/versions/3.8.13/envs/zenmllama/lib/python3.8/site-packages (from alembic<1.9.0,>=1.8.1->zenml) (1.2.4)\n",
      "Requirement already satisfied: importlib-metadata in /Users/felix/.pyenv/versions/3.8.13/envs/zenmllama/lib/python3.8/site-packages (from alembic<1.9.0,>=1.8.1->zenml) (6.3.0)\n",
      "Requirement already satisfied: monotonic>=1.5 in /Users/felix/.pyenv/versions/3.8.13/envs/zenmllama/lib/python3.8/site-packages (from analytics-python<2.0.0,>=1.4.0->zenml) (1.6)\n",
      "Requirement already satisfied: six>=1.5 in /Users/felix/.pyenv/versions/3.8.13/envs/zenmllama/lib/python3.8/site-packages (from analytics-python<2.0.0,>=1.4.0->zenml) (1.16.0)\n",
      "Requirement already satisfied: backoff==1.10.0 in /Users/felix/.pyenv/versions/3.8.13/envs/zenmllama/lib/python3.8/site-packages (from analytics-python<2.0.0,>=1.4.0->zenml) (1.10.0)\n",
      "Requirement already satisfied: requests<3.0,>=2.7 in /Users/felix/.pyenv/versions/3.8.13/envs/zenmllama/lib/python3.8/site-packages (from analytics-python<2.0.0,>=1.4.0->zenml) (2.28.2)\n",
      "Requirement already satisfied: validators<0.19,>=0.18 in /Users/felix/.pyenv/versions/3.8.13/envs/zenmllama/lib/python3.8/site-packages (from click-params<0.4.0,>=0.3.0->zenml) (0.18.2)\n",
      "Requirement already satisfied: websocket-client>=0.32.0 in /Users/felix/.pyenv/versions/3.8.13/envs/zenmllama/lib/python3.8/site-packages (from docker<6.1.0,>=6.0.0->zenml) (1.5.1)\n",
      "Requirement already satisfied: urllib3>=1.26.0 in /Users/felix/.pyenv/versions/3.8.13/envs/zenmllama/lib/python3.8/site-packages (from docker<6.1.0,>=6.0.0->zenml) (1.26.15)\n",
      "Requirement already satisfied: packaging>=14.0 in /Users/felix/.pyenv/versions/3.8.13/envs/zenmllama/lib/python3.8/site-packages (from docker<6.1.0,>=6.0.0->zenml) (23.0)\n",
      "Requirement already satisfied: gitdb<5,>=4.0.1 in /Users/felix/.pyenv/versions/3.8.13/envs/zenmllama/lib/python3.8/site-packages (from gitpython<4.0.0,>=3.1.18->zenml) (4.0.10)\n",
      "Requirement already satisfied: numpy>=1.20.3 in /Users/felix/.pyenv/versions/3.8.13/envs/zenmllama/lib/python3.8/site-packages (from pandas>=1.1.5->zenml) (1.23.5)\n",
      "Requirement already satisfied: pytz>=2020.1 in /Users/felix/.pyenv/versions/3.8.13/envs/zenmllama/lib/python3.8/site-packages (from pandas>=1.1.5->zenml) (2023.3)\n",
      "Requirement already satisfied: bcrypt>=3.1.0 in /Users/felix/.pyenv/versions/3.8.13/envs/zenmllama/lib/python3.8/site-packages (from passlib[bcrypt]<1.8.0,>=1.7.4->zenml) (4.0.1)\n",
      "Requirement already satisfied: typing-extensions>=4.2.0 in /Users/felix/.pyenv/versions/3.8.13/envs/zenmllama/lib/python3.8/site-packages (from pydantic<1.11,>=1.9.0->zenml) (4.5.0)\n",
      "Requirement already satisfied: pygments<3.0.0,>=2.6.0 in /Users/felix/.pyenv/versions/3.8.13/envs/zenmllama/lib/python3.8/site-packages (from rich[jupyter]<13.0.0,>=12.0.0->zenml) (2.15.0)\n",
      "Requirement already satisfied: commonmark<0.10.0,>=0.9.0 in /Users/felix/.pyenv/versions/3.8.13/envs/zenmllama/lib/python3.8/site-packages (from rich[jupyter]<13.0.0,>=12.0.0->zenml) (0.9.1)\n",
      "Requirement already satisfied: ipywidgets<8.0.0,>=7.5.1 in /Users/felix/.pyenv/versions/3.8.13/envs/zenmllama/lib/python3.8/site-packages (from rich[jupyter]<13.0.0,>=12.0.0->zenml) (7.7.5)\n",
      "Requirement already satisfied: sqlalchemy2-stubs in /Users/felix/.pyenv/versions/3.8.13/envs/zenmllama/lib/python3.8/site-packages (from sqlmodel<0.1.0,>=0.0.8->zenml) (0.0.2a33)\n",
      "Requirement already satisfied: smmap<6,>=3.0.1 in /Users/felix/.pyenv/versions/3.8.13/envs/zenmllama/lib/python3.8/site-packages (from gitdb<5,>=4.0.1->gitpython<4.0.0,>=3.1.18->zenml) (5.0.0)\n",
      "Requirement already satisfied: widgetsnbextension~=3.6.4 in /Users/felix/.pyenv/versions/3.8.13/envs/zenmllama/lib/python3.8/site-packages (from ipywidgets<8.0.0,>=7.5.1->rich[jupyter]<13.0.0,>=12.0.0->zenml) (3.6.4)\n",
      "Requirement already satisfied: ipython>=4.0.0 in /Users/felix/.pyenv/versions/3.8.13/envs/zenmllama/lib/python3.8/site-packages (from ipywidgets<8.0.0,>=7.5.1->rich[jupyter]<13.0.0,>=12.0.0->zenml) (8.12.0)\n",
      "Requirement already satisfied: ipython-genutils~=0.2.0 in /Users/felix/.pyenv/versions/3.8.13/envs/zenmllama/lib/python3.8/site-packages (from ipywidgets<8.0.0,>=7.5.1->rich[jupyter]<13.0.0,>=12.0.0->zenml) (0.2.0)\n",
      "Requirement already satisfied: ipykernel>=4.5.1 in /Users/felix/.pyenv/versions/3.8.13/envs/zenmllama/lib/python3.8/site-packages (from ipywidgets<8.0.0,>=7.5.1->rich[jupyter]<13.0.0,>=12.0.0->zenml) (6.22.0)\n",
      "Requirement already satisfied: traitlets>=4.3.1 in /Users/felix/.pyenv/versions/3.8.13/envs/zenmllama/lib/python3.8/site-packages (from ipywidgets<8.0.0,>=7.5.1->rich[jupyter]<13.0.0,>=12.0.0->zenml) (5.9.0)\n",
      "Requirement already satisfied: jupyterlab-widgets<3,>=1.0.0 in /Users/felix/.pyenv/versions/3.8.13/envs/zenmllama/lib/python3.8/site-packages (from ipywidgets<8.0.0,>=7.5.1->rich[jupyter]<13.0.0,>=12.0.0->zenml) (1.1.4)\n",
      "Requirement already satisfied: certifi>=2017.4.17 in /Users/felix/.pyenv/versions/3.8.13/envs/zenmllama/lib/python3.8/site-packages (from requests<3.0,>=2.7->analytics-python<2.0.0,>=1.4.0->zenml) (2022.12.7)\n",
      "Requirement already satisfied: charset-normalizer<4,>=2 in /Users/felix/.pyenv/versions/3.8.13/envs/zenmllama/lib/python3.8/site-packages (from requests<3.0,>=2.7->analytics-python<2.0.0,>=1.4.0->zenml) (3.1.0)\n",
      "Requirement already satisfied: idna<4,>=2.5 in /Users/felix/.pyenv/versions/3.8.13/envs/zenmllama/lib/python3.8/site-packages (from requests<3.0,>=2.7->analytics-python<2.0.0,>=1.4.0->zenml) (3.4)\n",
      "Requirement already satisfied: greenlet!=0.4.17 in /Users/felix/.pyenv/versions/3.8.13/envs/zenmllama/lib/python3.8/site-packages (from SQLAlchemy>=1.3->sqlalchemy_utils==0.38.3->zenml) (2.0.2)\n",
      "Requirement already satisfied: decorator>=3.4.0 in /Users/felix/.pyenv/versions/3.8.13/envs/zenmllama/lib/python3.8/site-packages (from validators<0.19,>=0.18->click-params<0.4.0,>=0.3.0->zenml) (5.1.1)\n",
      "Requirement already satisfied: zipp>=0.5 in /Users/felix/.pyenv/versions/3.8.13/envs/zenmllama/lib/python3.8/site-packages (from importlib-metadata->alembic<1.9.0,>=1.8.1->zenml) (3.15.0)\n",
      "Requirement already satisfied: MarkupSafe>=0.9.2 in /Users/felix/.pyenv/versions/3.8.13/envs/zenmllama/lib/python3.8/site-packages (from Mako->alembic<1.9.0,>=1.8.1->zenml) (2.1.2)\n",
      "Requirement already satisfied: pyzmq>=20 in /Users/felix/.pyenv/versions/3.8.13/envs/zenmllama/lib/python3.8/site-packages (from ipykernel>=4.5.1->ipywidgets<8.0.0,>=7.5.1->rich[jupyter]<13.0.0,>=12.0.0->zenml) (25.0.2)\n",
      "Requirement already satisfied: comm>=0.1.1 in /Users/felix/.pyenv/versions/3.8.13/envs/zenmllama/lib/python3.8/site-packages (from ipykernel>=4.5.1->ipywidgets<8.0.0,>=7.5.1->rich[jupyter]<13.0.0,>=12.0.0->zenml) (0.1.3)\n",
      "Requirement already satisfied: matplotlib-inline>=0.1 in /Users/felix/.pyenv/versions/3.8.13/envs/zenmllama/lib/python3.8/site-packages (from ipykernel>=4.5.1->ipywidgets<8.0.0,>=7.5.1->rich[jupyter]<13.0.0,>=12.0.0->zenml) (0.1.6)\n",
      "Requirement already satisfied: psutil in /Users/felix/.pyenv/versions/3.8.13/envs/zenmllama/lib/python3.8/site-packages (from ipykernel>=4.5.1->ipywidgets<8.0.0,>=7.5.1->rich[jupyter]<13.0.0,>=12.0.0->zenml) (5.9.4)\n",
      "Requirement already satisfied: tornado>=6.1 in /Users/felix/.pyenv/versions/3.8.13/envs/zenmllama/lib/python3.8/site-packages (from ipykernel>=4.5.1->ipywidgets<8.0.0,>=7.5.1->rich[jupyter]<13.0.0,>=12.0.0->zenml) (6.2)\n",
      "Requirement already satisfied: debugpy>=1.6.5 in /Users/felix/.pyenv/versions/3.8.13/envs/zenmllama/lib/python3.8/site-packages (from ipykernel>=4.5.1->ipywidgets<8.0.0,>=7.5.1->rich[jupyter]<13.0.0,>=12.0.0->zenml) (1.6.7)\n",
      "Requirement already satisfied: nest-asyncio in /Users/felix/.pyenv/versions/3.8.13/envs/zenmllama/lib/python3.8/site-packages (from ipykernel>=4.5.1->ipywidgets<8.0.0,>=7.5.1->rich[jupyter]<13.0.0,>=12.0.0->zenml) (1.5.6)\n",
      "Requirement already satisfied: appnope in /Users/felix/.pyenv/versions/3.8.13/envs/zenmllama/lib/python3.8/site-packages (from ipykernel>=4.5.1->ipywidgets<8.0.0,>=7.5.1->rich[jupyter]<13.0.0,>=12.0.0->zenml) (0.1.3)\n",
      "Requirement already satisfied: jupyter-core!=5.0.*,>=4.12 in /Users/felix/.pyenv/versions/3.8.13/envs/zenmllama/lib/python3.8/site-packages (from ipykernel>=4.5.1->ipywidgets<8.0.0,>=7.5.1->rich[jupyter]<13.0.0,>=12.0.0->zenml) (5.3.0)\n",
      "Requirement already satisfied: jupyter-client>=6.1.12 in /Users/felix/.pyenv/versions/3.8.13/envs/zenmllama/lib/python3.8/site-packages (from ipykernel>=4.5.1->ipywidgets<8.0.0,>=7.5.1->rich[jupyter]<13.0.0,>=12.0.0->zenml) (8.1.0)\n",
      "Requirement already satisfied: pexpect>4.3 in /Users/felix/.pyenv/versions/3.8.13/envs/zenmllama/lib/python3.8/site-packages (from ipython>=4.0.0->ipywidgets<8.0.0,>=7.5.1->rich[jupyter]<13.0.0,>=12.0.0->zenml) (4.8.0)\n",
      "Requirement already satisfied: stack-data in /Users/felix/.pyenv/versions/3.8.13/envs/zenmllama/lib/python3.8/site-packages (from ipython>=4.0.0->ipywidgets<8.0.0,>=7.5.1->rich[jupyter]<13.0.0,>=12.0.0->zenml) (0.6.2)\n",
      "Requirement already satisfied: jedi>=0.16 in /Users/felix/.pyenv/versions/3.8.13/envs/zenmllama/lib/python3.8/site-packages (from ipython>=4.0.0->ipywidgets<8.0.0,>=7.5.1->rich[jupyter]<13.0.0,>=12.0.0->zenml) (0.18.2)\n",
      "Requirement already satisfied: pickleshare in /Users/felix/.pyenv/versions/3.8.13/envs/zenmllama/lib/python3.8/site-packages (from ipython>=4.0.0->ipywidgets<8.0.0,>=7.5.1->rich[jupyter]<13.0.0,>=12.0.0->zenml) (0.7.5)\n",
      "Requirement already satisfied: prompt-toolkit!=3.0.37,<3.1.0,>=3.0.30 in /Users/felix/.pyenv/versions/3.8.13/envs/zenmllama/lib/python3.8/site-packages (from ipython>=4.0.0->ipywidgets<8.0.0,>=7.5.1->rich[jupyter]<13.0.0,>=12.0.0->zenml) (3.0.38)\n",
      "Requirement already satisfied: backcall in /Users/felix/.pyenv/versions/3.8.13/envs/zenmllama/lib/python3.8/site-packages (from ipython>=4.0.0->ipywidgets<8.0.0,>=7.5.1->rich[jupyter]<13.0.0,>=12.0.0->zenml) (0.2.0)\n",
      "Requirement already satisfied: notebook>=4.4.1 in /Users/felix/.pyenv/versions/3.8.13/envs/zenmllama/lib/python3.8/site-packages (from widgetsnbextension~=3.6.4->ipywidgets<8.0.0,>=7.5.1->rich[jupyter]<13.0.0,>=12.0.0->zenml) (6.5.4)\n",
      "Requirement already satisfied: parso<0.9.0,>=0.8.0 in /Users/felix/.pyenv/versions/3.8.13/envs/zenmllama/lib/python3.8/site-packages (from jedi>=0.16->ipython>=4.0.0->ipywidgets<8.0.0,>=7.5.1->rich[jupyter]<13.0.0,>=12.0.0->zenml) (0.8.3)\n",
      "Requirement already satisfied: platformdirs>=2.5 in /Users/felix/.pyenv/versions/3.8.13/envs/zenmllama/lib/python3.8/site-packages (from jupyter-core!=5.0.*,>=4.12->ipykernel>=4.5.1->ipywidgets<8.0.0,>=7.5.1->rich[jupyter]<13.0.0,>=12.0.0->zenml) (3.2.0)\n",
      "Requirement already satisfied: argon2-cffi in /Users/felix/.pyenv/versions/3.8.13/envs/zenmllama/lib/python3.8/site-packages (from notebook>=4.4.1->widgetsnbextension~=3.6.4->ipywidgets<8.0.0,>=7.5.1->rich[jupyter]<13.0.0,>=12.0.0->zenml) (21.3.0)\n",
      "Requirement already satisfied: nbclassic>=0.4.7 in /Users/felix/.pyenv/versions/3.8.13/envs/zenmllama/lib/python3.8/site-packages (from notebook>=4.4.1->widgetsnbextension~=3.6.4->ipywidgets<8.0.0,>=7.5.1->rich[jupyter]<13.0.0,>=12.0.0->zenml) (0.5.5)\n",
      "Requirement already satisfied: Send2Trash>=1.8.0 in /Users/felix/.pyenv/versions/3.8.13/envs/zenmllama/lib/python3.8/site-packages (from notebook>=4.4.1->widgetsnbextension~=3.6.4->ipywidgets<8.0.0,>=7.5.1->rich[jupyter]<13.0.0,>=12.0.0->zenml) (1.8.0)\n",
      "Requirement already satisfied: prometheus-client in /Users/felix/.pyenv/versions/3.8.13/envs/zenmllama/lib/python3.8/site-packages (from notebook>=4.4.1->widgetsnbextension~=3.6.4->ipywidgets<8.0.0,>=7.5.1->rich[jupyter]<13.0.0,>=12.0.0->zenml) (0.16.0)\n",
      "Requirement already satisfied: nbconvert>=5 in /Users/felix/.pyenv/versions/3.8.13/envs/zenmllama/lib/python3.8/site-packages (from notebook>=4.4.1->widgetsnbextension~=3.6.4->ipywidgets<8.0.0,>=7.5.1->rich[jupyter]<13.0.0,>=12.0.0->zenml) (7.3.1)\n",
      "Requirement already satisfied: jinja2 in /Users/felix/.pyenv/versions/3.8.13/envs/zenmllama/lib/python3.8/site-packages (from notebook>=4.4.1->widgetsnbextension~=3.6.4->ipywidgets<8.0.0,>=7.5.1->rich[jupyter]<13.0.0,>=12.0.0->zenml) (3.1.2)\n",
      "Requirement already satisfied: nbformat in /Users/felix/.pyenv/versions/3.8.13/envs/zenmllama/lib/python3.8/site-packages (from notebook>=4.4.1->widgetsnbextension~=3.6.4->ipywidgets<8.0.0,>=7.5.1->rich[jupyter]<13.0.0,>=12.0.0->zenml) (5.8.0)\n",
      "Requirement already satisfied: terminado>=0.8.3 in /Users/felix/.pyenv/versions/3.8.13/envs/zenmllama/lib/python3.8/site-packages (from notebook>=4.4.1->widgetsnbextension~=3.6.4->ipywidgets<8.0.0,>=7.5.1->rich[jupyter]<13.0.0,>=12.0.0->zenml) (0.17.1)\n",
      "Requirement already satisfied: ptyprocess>=0.5 in /Users/felix/.pyenv/versions/3.8.13/envs/zenmllama/lib/python3.8/site-packages (from pexpect>4.3->ipython>=4.0.0->ipywidgets<8.0.0,>=7.5.1->rich[jupyter]<13.0.0,>=12.0.0->zenml) (0.7.0)\n",
      "Requirement already satisfied: wcwidth in /Users/felix/.pyenv/versions/3.8.13/envs/zenmllama/lib/python3.8/site-packages (from prompt-toolkit!=3.0.37,<3.1.0,>=3.0.30->ipython>=4.0.0->ipywidgets<8.0.0,>=7.5.1->rich[jupyter]<13.0.0,>=12.0.0->zenml) (0.2.6)\n",
      "Requirement already satisfied: asttokens>=2.1.0 in /Users/felix/.pyenv/versions/3.8.13/envs/zenmllama/lib/python3.8/site-packages (from stack-data->ipython>=4.0.0->ipywidgets<8.0.0,>=7.5.1->rich[jupyter]<13.0.0,>=12.0.0->zenml) (2.2.1)\n",
      "Requirement already satisfied: executing>=1.2.0 in /Users/felix/.pyenv/versions/3.8.13/envs/zenmllama/lib/python3.8/site-packages (from stack-data->ipython>=4.0.0->ipywidgets<8.0.0,>=7.5.1->rich[jupyter]<13.0.0,>=12.0.0->zenml) (1.2.0)\n",
      "Requirement already satisfied: pure-eval in /Users/felix/.pyenv/versions/3.8.13/envs/zenmllama/lib/python3.8/site-packages (from stack-data->ipython>=4.0.0->ipywidgets<8.0.0,>=7.5.1->rich[jupyter]<13.0.0,>=12.0.0->zenml) (0.2.2)\n",
      "Requirement already satisfied: jupyter-server>=1.8 in /Users/felix/.pyenv/versions/3.8.13/envs/zenmllama/lib/python3.8/site-packages (from nbclassic>=0.4.7->notebook>=4.4.1->widgetsnbextension~=3.6.4->ipywidgets<8.0.0,>=7.5.1->rich[jupyter]<13.0.0,>=12.0.0->zenml) (2.5.0)\n",
      "Requirement already satisfied: notebook-shim>=0.1.0 in /Users/felix/.pyenv/versions/3.8.13/envs/zenmllama/lib/python3.8/site-packages (from nbclassic>=0.4.7->notebook>=4.4.1->widgetsnbextension~=3.6.4->ipywidgets<8.0.0,>=7.5.1->rich[jupyter]<13.0.0,>=12.0.0->zenml) (0.2.2)\n",
      "Requirement already satisfied: mistune<3,>=2.0.3 in /Users/felix/.pyenv/versions/3.8.13/envs/zenmllama/lib/python3.8/site-packages (from nbconvert>=5->notebook>=4.4.1->widgetsnbextension~=3.6.4->ipywidgets<8.0.0,>=7.5.1->rich[jupyter]<13.0.0,>=12.0.0->zenml) (2.0.5)\n",
      "Requirement already satisfied: pandocfilters>=1.4.1 in /Users/felix/.pyenv/versions/3.8.13/envs/zenmllama/lib/python3.8/site-packages (from nbconvert>=5->notebook>=4.4.1->widgetsnbextension~=3.6.4->ipywidgets<8.0.0,>=7.5.1->rich[jupyter]<13.0.0,>=12.0.0->zenml) (1.5.0)\n",
      "Requirement already satisfied: beautifulsoup4 in /Users/felix/.pyenv/versions/3.8.13/envs/zenmllama/lib/python3.8/site-packages (from nbconvert>=5->notebook>=4.4.1->widgetsnbextension~=3.6.4->ipywidgets<8.0.0,>=7.5.1->rich[jupyter]<13.0.0,>=12.0.0->zenml) (4.12.2)\n",
      "Requirement already satisfied: bleach in /Users/felix/.pyenv/versions/3.8.13/envs/zenmllama/lib/python3.8/site-packages (from nbconvert>=5->notebook>=4.4.1->widgetsnbextension~=3.6.4->ipywidgets<8.0.0,>=7.5.1->rich[jupyter]<13.0.0,>=12.0.0->zenml) (6.0.0)\n",
      "Requirement already satisfied: nbclient>=0.5.0 in /Users/felix/.pyenv/versions/3.8.13/envs/zenmllama/lib/python3.8/site-packages (from nbconvert>=5->notebook>=4.4.1->widgetsnbextension~=3.6.4->ipywidgets<8.0.0,>=7.5.1->rich[jupyter]<13.0.0,>=12.0.0->zenml) (0.7.3)\n",
      "Requirement already satisfied: defusedxml in /Users/felix/.pyenv/versions/3.8.13/envs/zenmllama/lib/python3.8/site-packages (from nbconvert>=5->notebook>=4.4.1->widgetsnbextension~=3.6.4->ipywidgets<8.0.0,>=7.5.1->rich[jupyter]<13.0.0,>=12.0.0->zenml) (0.7.1)\n",
      "Requirement already satisfied: jupyterlab-pygments in /Users/felix/.pyenv/versions/3.8.13/envs/zenmllama/lib/python3.8/site-packages (from nbconvert>=5->notebook>=4.4.1->widgetsnbextension~=3.6.4->ipywidgets<8.0.0,>=7.5.1->rich[jupyter]<13.0.0,>=12.0.0->zenml) (0.2.2)\n",
      "Requirement already satisfied: tinycss2 in /Users/felix/.pyenv/versions/3.8.13/envs/zenmllama/lib/python3.8/site-packages (from nbconvert>=5->notebook>=4.4.1->widgetsnbextension~=3.6.4->ipywidgets<8.0.0,>=7.5.1->rich[jupyter]<13.0.0,>=12.0.0->zenml) (1.2.1)\n",
      "Requirement already satisfied: fastjsonschema in /Users/felix/.pyenv/versions/3.8.13/envs/zenmllama/lib/python3.8/site-packages (from nbformat->notebook>=4.4.1->widgetsnbextension~=3.6.4->ipywidgets<8.0.0,>=7.5.1->rich[jupyter]<13.0.0,>=12.0.0->zenml) (2.16.3)\n",
      "Requirement already satisfied: jsonschema>=2.6 in /Users/felix/.pyenv/versions/3.8.13/envs/zenmllama/lib/python3.8/site-packages (from nbformat->notebook>=4.4.1->widgetsnbextension~=3.6.4->ipywidgets<8.0.0,>=7.5.1->rich[jupyter]<13.0.0,>=12.0.0->zenml) (4.17.3)\n",
      "Requirement already satisfied: argon2-cffi-bindings in /Users/felix/.pyenv/versions/3.8.13/envs/zenmllama/lib/python3.8/site-packages (from argon2-cffi->notebook>=4.4.1->widgetsnbextension~=3.6.4->ipywidgets<8.0.0,>=7.5.1->rich[jupyter]<13.0.0,>=12.0.0->zenml) (21.2.0)\n",
      "Requirement already satisfied: attrs>=17.4.0 in /Users/felix/.pyenv/versions/3.8.13/envs/zenmllama/lib/python3.8/site-packages (from jsonschema>=2.6->nbformat->notebook>=4.4.1->widgetsnbextension~=3.6.4->ipywidgets<8.0.0,>=7.5.1->rich[jupyter]<13.0.0,>=12.0.0->zenml) (22.2.0)\n",
      "Requirement already satisfied: pyrsistent!=0.17.0,!=0.17.1,!=0.17.2,>=0.14.0 in /Users/felix/.pyenv/versions/3.8.13/envs/zenmllama/lib/python3.8/site-packages (from jsonschema>=2.6->nbformat->notebook>=4.4.1->widgetsnbextension~=3.6.4->ipywidgets<8.0.0,>=7.5.1->rich[jupyter]<13.0.0,>=12.0.0->zenml) (0.19.3)\n",
      "Requirement already satisfied: pkgutil-resolve-name>=1.3.10 in /Users/felix/.pyenv/versions/3.8.13/envs/zenmllama/lib/python3.8/site-packages (from jsonschema>=2.6->nbformat->notebook>=4.4.1->widgetsnbextension~=3.6.4->ipywidgets<8.0.0,>=7.5.1->rich[jupyter]<13.0.0,>=12.0.0->zenml) (1.3.10)\n",
      "Requirement already satisfied: jupyter-server-terminals in /Users/felix/.pyenv/versions/3.8.13/envs/zenmllama/lib/python3.8/site-packages (from jupyter-server>=1.8->nbclassic>=0.4.7->notebook>=4.4.1->widgetsnbextension~=3.6.4->ipywidgets<8.0.0,>=7.5.1->rich[jupyter]<13.0.0,>=12.0.0->zenml) (0.4.4)\n",
      "Requirement already satisfied: anyio>=3.1.0 in /Users/felix/.pyenv/versions/3.8.13/envs/zenmllama/lib/python3.8/site-packages (from jupyter-server>=1.8->nbclassic>=0.4.7->notebook>=4.4.1->widgetsnbextension~=3.6.4->ipywidgets<8.0.0,>=7.5.1->rich[jupyter]<13.0.0,>=12.0.0->zenml) (3.6.2)\n",
      "Requirement already satisfied: jupyter-events>=0.4.0 in /Users/felix/.pyenv/versions/3.8.13/envs/zenmllama/lib/python3.8/site-packages (from jupyter-server>=1.8->nbclassic>=0.4.7->notebook>=4.4.1->widgetsnbextension~=3.6.4->ipywidgets<8.0.0,>=7.5.1->rich[jupyter]<13.0.0,>=12.0.0->zenml) (0.6.3)\n",
      "Requirement already satisfied: cffi>=1.0.1 in /Users/felix/.pyenv/versions/3.8.13/envs/zenmllama/lib/python3.8/site-packages (from argon2-cffi-bindings->argon2-cffi->notebook>=4.4.1->widgetsnbextension~=3.6.4->ipywidgets<8.0.0,>=7.5.1->rich[jupyter]<13.0.0,>=12.0.0->zenml) (1.15.1)\n",
      "Requirement already satisfied: soupsieve>1.2 in /Users/felix/.pyenv/versions/3.8.13/envs/zenmllama/lib/python3.8/site-packages (from beautifulsoup4->nbconvert>=5->notebook>=4.4.1->widgetsnbextension~=3.6.4->ipywidgets<8.0.0,>=7.5.1->rich[jupyter]<13.0.0,>=12.0.0->zenml) (2.4)\n",
      "Requirement already satisfied: webencodings in /Users/felix/.pyenv/versions/3.8.13/envs/zenmllama/lib/python3.8/site-packages (from bleach->nbconvert>=5->notebook>=4.4.1->widgetsnbextension~=3.6.4->ipywidgets<8.0.0,>=7.5.1->rich[jupyter]<13.0.0,>=12.0.0->zenml) (0.5.1)\n",
      "Requirement already satisfied: sniffio>=1.1 in /Users/felix/.pyenv/versions/3.8.13/envs/zenmllama/lib/python3.8/site-packages (from anyio>=3.1.0->jupyter-server>=1.8->nbclassic>=0.4.7->notebook>=4.4.1->widgetsnbextension~=3.6.4->ipywidgets<8.0.0,>=7.5.1->rich[jupyter]<13.0.0,>=12.0.0->zenml) (1.3.0)\n",
      "Requirement already satisfied: pycparser in /Users/felix/.pyenv/versions/3.8.13/envs/zenmllama/lib/python3.8/site-packages (from cffi>=1.0.1->argon2-cffi-bindings->argon2-cffi->notebook>=4.4.1->widgetsnbextension~=3.6.4->ipywidgets<8.0.0,>=7.5.1->rich[jupyter]<13.0.0,>=12.0.0->zenml) (2.21)\n",
      "Requirement already satisfied: rfc3339-validator in /Users/felix/.pyenv/versions/3.8.13/envs/zenmllama/lib/python3.8/site-packages (from jupyter-events>=0.4.0->jupyter-server>=1.8->nbclassic>=0.4.7->notebook>=4.4.1->widgetsnbextension~=3.6.4->ipywidgets<8.0.0,>=7.5.1->rich[jupyter]<13.0.0,>=12.0.0->zenml) (0.1.4)\n",
      "Requirement already satisfied: python-json-logger>=2.0.4 in /Users/felix/.pyenv/versions/3.8.13/envs/zenmllama/lib/python3.8/site-packages (from jupyter-events>=0.4.0->jupyter-server>=1.8->nbclassic>=0.4.7->notebook>=4.4.1->widgetsnbextension~=3.6.4->ipywidgets<8.0.0,>=7.5.1->rich[jupyter]<13.0.0,>=12.0.0->zenml) (2.0.7)\n",
      "Requirement already satisfied: rfc3986-validator>=0.1.1 in /Users/felix/.pyenv/versions/3.8.13/envs/zenmllama/lib/python3.8/site-packages (from jupyter-events>=0.4.0->jupyter-server>=1.8->nbclassic>=0.4.7->notebook>=4.4.1->widgetsnbextension~=3.6.4->ipywidgets<8.0.0,>=7.5.1->rich[jupyter]<13.0.0,>=12.0.0->zenml) (0.1.1)\n",
      "Requirement already satisfied: isoduration in /Users/felix/.pyenv/versions/3.8.13/envs/zenmllama/lib/python3.8/site-packages (from jsonschema>=2.6->nbformat->notebook>=4.4.1->widgetsnbextension~=3.6.4->ipywidgets<8.0.0,>=7.5.1->rich[jupyter]<13.0.0,>=12.0.0->zenml) (20.11.0)\n",
      "Requirement already satisfied: webcolors>=1.11 in /Users/felix/.pyenv/versions/3.8.13/envs/zenmllama/lib/python3.8/site-packages (from jsonschema>=2.6->nbformat->notebook>=4.4.1->widgetsnbextension~=3.6.4->ipywidgets<8.0.0,>=7.5.1->rich[jupyter]<13.0.0,>=12.0.0->zenml) (1.13)\n",
      "Requirement already satisfied: fqdn in /Users/felix/.pyenv/versions/3.8.13/envs/zenmllama/lib/python3.8/site-packages (from jsonschema>=2.6->nbformat->notebook>=4.4.1->widgetsnbextension~=3.6.4->ipywidgets<8.0.0,>=7.5.1->rich[jupyter]<13.0.0,>=12.0.0->zenml) (1.5.1)\n",
      "Requirement already satisfied: uri-template in /Users/felix/.pyenv/versions/3.8.13/envs/zenmllama/lib/python3.8/site-packages (from jsonschema>=2.6->nbformat->notebook>=4.4.1->widgetsnbextension~=3.6.4->ipywidgets<8.0.0,>=7.5.1->rich[jupyter]<13.0.0,>=12.0.0->zenml) (1.2.0)\n",
      "Requirement already satisfied: jsonpointer>1.13 in /Users/felix/.pyenv/versions/3.8.13/envs/zenmllama/lib/python3.8/site-packages (from jsonschema>=2.6->nbformat->notebook>=4.4.1->widgetsnbextension~=3.6.4->ipywidgets<8.0.0,>=7.5.1->rich[jupyter]<13.0.0,>=12.0.0->zenml) (2.3)\n",
      "Requirement already satisfied: arrow>=0.15.0 in /Users/felix/.pyenv/versions/3.8.13/envs/zenmllama/lib/python3.8/site-packages (from isoduration->jsonschema>=2.6->nbformat->notebook>=4.4.1->widgetsnbextension~=3.6.4->ipywidgets<8.0.0,>=7.5.1->rich[jupyter]<13.0.0,>=12.0.0->zenml) (1.2.3)\n",
      "\u001b[?25l\u001b[2;36mFound existing ZenML repository at path \u001b[0m\n",
      "\u001b[2;32m'/Users/felix/code/zenml-projects/hub-example'\u001b[0m\u001b[2;36m.\u001b[0m\n",
      "\u001b[2;32m⠋\u001b[0m\u001b[2;36m \u001b[0m\u001b[2;36mInitializing ZenML repository at /Users/felix/code/zenml-projects/hub-example.\u001b[0m\n",
      "\u001b[2K\u001b[1A\u001b[2K\u001b[32m⠋\u001b[0m Initializing ZenML repository at /Users/felix/code/zenml-projects/hub-example.\n",
      "\n",
      "\u001b[1A\u001b[2K\u001b[1A\u001b[2K"
     ]
    }
   ],
   "source": [
    "!pip install zenml\n",
    "!zenml init\n",
    "\n",
    "import logging\n",
    "logging.getLogger().setLevel(logging.ERROR)"
   ]
  },
  {
   "attachments": {},
   "cell_type": "markdown",
   "metadata": {},
   "source": [
    "To find out about all plugins that are currently available in the ZenML Hub, we can either\n",
    "browse the `Plugin` section of the ZenML dashboard or run the `zenml hub list` command:\n",
    "\n",
    "TODO: plugin section screenshot"
   ]
  },
  {
   "cell_type": "code",
   "execution_count": 6,
   "metadata": {},
   "outputs": [
    {
     "name": "stdout",
     "output_type": "stream",
     "text": [
      "┏━━━━━━━━━━━━━┯━━━━━━━━┯━━━━━━━━━━━┯━━━━━━━━━━━━━━┯━━━━━━━━━━━━━┯━━━━━━━━━━━━━━┓\n",
      "┃\u001b[1m             \u001b[0m│\u001b[1m        \u001b[0m│\u001b[1m           \u001b[0m│\u001b[1m              \u001b[0m│\u001b[1m \u001b[0m\u001b[1mPACKAGE    \u001b[0m\u001b[1m \u001b[0m│\u001b[1m \u001b[0m\u001b[1mREPOSITORY  \u001b[0m\u001b[1m \u001b[0m┃\n",
      "┃\u001b[1m \u001b[0m\u001b[1m  PLUGIN   \u001b[0m\u001b[1m \u001b[0m│\u001b[1m \u001b[0m\u001b[1mSTATUS\u001b[0m\u001b[1m \u001b[0m│\u001b[1m \u001b[0m\u001b[1mINSTALLED\u001b[0m\u001b[1m \u001b[0m│\u001b[1m \u001b[0m\u001b[1mMODULE      \u001b[0m\u001b[1m \u001b[0m│\u001b[1m \u001b[0m\u001b[1mNAME       \u001b[0m\u001b[1m \u001b[0m│\u001b[1m \u001b[0m\u001b[1mURL         \u001b[0m\u001b[1m \u001b[0m┃\n",
      "┠─────────────┼────────┼───────────┼──────────────┼─────────────┼──────────────┨\n",
      "┃ mlflow_step │ ✅     │ ❌        │ zenml.hub.ml │ zenmlhub-ml │ https://gith ┃\n",
      "┃    s:0.2    │        │           │ flow_steps   │ flow_steps  │ ub.com/zenml ┃\n",
      "┃             │        │           │              │             │ -io/zenml-hu ┃\n",
      "┃             │        │           │              │             │ b-plugins    ┃\n",
      "┠─────────────┼────────┼───────────┼──────────────┼─────────────┼──────────────┨\n",
      "┃ seldon_step │ ✅     │ ❌        │ zenml.hub.se │ zenmlhub-se │ https://gith ┃\n",
      "┃    s:0.1    │        │           │ ldon_steps   │ ldon_steps  │ ub.com/zenml ┃\n",
      "┃             │        │           │              │             │ -io/zenml-hu ┃\n",
      "┃             │        │           │              │             │ b-plugins    ┃\n",
      "┠─────────────┼────────┼───────────┼──────────────┼─────────────┼──────────────┨\n",
      "┃ docs_qa_exa │ ✅     │ ✅        │ zenml.hub.do │ zenmlhub-do │ https://gith ┃\n",
      "┃  mple:0.4   │        │           │ cs_qa_exampl │ cs_qa_examp │ ub.com/zenml ┃\n",
      "┃             │        │           │ e            │ le          │ -io/zenml-hu ┃\n",
      "┃             │        │           │              │             │ b-plugins    ┃\n",
      "┗━━━━━━━━━━━━━┷━━━━━━━━┷━━━━━━━━━━━┷━━━━━━━━━━━━━━┷━━━━━━━━━━━━━┷━━━━━━━━━━━━━━┛\n"
     ]
    }
   ],
   "source": [
    "!zenml hub list"
   ]
  },
  {
   "attachments": {},
   "cell_type": "markdown",
   "metadata": {},
   "source": [
    "As we see, there are a lot of plugins avalable in the ZenML Hub that we can\n",
    "use to kickstart our projects. In this example, we will use the \n",
    "`langchain_qa_example` plugin to build a pipeline that can answer \n",
    "questions about the ZenML documentation!\n",
    "\n",
    "Before installing the plugin, let's briefly check out the \n",
    "[plugin source code](https://github.com/zenml-io/zenml-hub-plugins/tree/main/src/langchain_zenml_qa_example) \n",
    "to find out what it contains. Alternatively, If you prefer to inspect the code \n",
    "in your local code editor, you can also pull the source code to your local\n",
    "machine using the `zenml hub clone` command:"
   ]
  },
  {
   "cell_type": "code",
   "execution_count": 7,
   "metadata": {},
   "outputs": [
    {
     "name": "stdout",
     "output_type": "stream",
     "text": [
      "\u001b[2;36mCloning plugin \u001b[0m\u001b[2;32m'docs_qa_example:latest'\u001b[0m\u001b[2;36m to \u001b[0m\n",
      "\u001b[2;35m/Users/felix/code/zenml-projects/hub-example/\u001b[0m\u001b[2;95mdocs_qa_example...\u001b[0m\n",
      "\u001b[2;36mSuccessfully Cloned plugin \u001b[0m\u001b[2;32m'docs_qa_example:latest'\u001b[0m\u001b[2;36m.\u001b[0m\n"
     ]
    }
   ],
   "source": [
    "!zenml hub clone langchain_qa_example"
   ]
  },
  {
   "attachments": {},
   "cell_type": "markdown",
   "metadata": {},
   "source": [
    "TODO: add screenshot of init.py\n",
    "\n",
    "As we see, the plugin contains a bunch of steps, a pipeline, as well as a\n",
    "`build_zenml_docs_qa_pipeline` utility function. Let's now install this plugin\n",
    "and ask it questions about ZenML!"
   ]
  },
  {
   "cell_type": "code",
   "execution_count": 8,
   "metadata": {},
   "outputs": [
    {
     "name": "stdout",
     "output_type": "stream",
     "text": [
      "\u001b[2;36mPlugin \u001b[0m\u001b[2;32m'docs_qa_example'\u001b[0m\u001b[2;36m is already installed.\u001b[0m\n"
     ]
    }
   ],
   "source": [
    "!zenml hub install langchain_qa_example -y"
   ]
  },
  {
   "attachments": {},
   "cell_type": "markdown",
   "metadata": {},
   "source": [
    "## Ask ZenML Questions to GPT\n",
    "\n",
    "After setting the `OPENAI_API_KEY`, we can directly use the `build_zenml_docs_qa_pipeline` \n",
    "function from the `langchain_qa_example` plugin to ask ZenML Questions to GPT:"
   ]
  },
  {
   "cell_type": "code",
   "execution_count": null,
   "metadata": {},
   "outputs": [],
   "source": [
    "import os\n",
    "\n",
    "\n",
    "# TODO: You need to set your OpenAI API key below to access GPT-3.5.\n",
    "os.environ[\"OPENAI_API_KEY\"] = \"\""
   ]
  },
  {
   "cell_type": "code",
   "execution_count": 9,
   "metadata": {},
   "outputs": [
    {
     "name": "stdout",
     "output_type": "stream",
     "text": [
      "\u001b[1;35mReloading configuration file /Users/felix/code/zenml-projects/hub-example/.zen/config.yaml\u001b[0m\n",
      "\u001b[1;35mReusing registered pipeline \u001b[0m\u001b[33mqa_pipeline\u001b[1;35m (version: 1).\u001b[0m\n",
      "\u001b[1;35mRunning pipeline \u001b[0m\u001b[33mqa_pipeline\u001b[1;35m on stack \u001b[0m\u001b[33mdefault\u001b[1;35m (caching enabled)\u001b[0m\n",
      "\u001b[1;35mStep \u001b[0m\u001b[33mdocument_loader\u001b[1;35m has started.\u001b[0m\n",
      "\u001b[1;35mUsing cached version of \u001b[0m\u001b[33mdocument_loader\u001b[1;35m.\u001b[0m\n",
      "\u001b[1;35mStep \u001b[0m\u001b[33mindex_generator\u001b[1;35m has started.\u001b[0m\n",
      "\u001b[1;35mUsing cached version of \u001b[0m\u001b[33mindex_generator\u001b[1;35m.\u001b[0m\n",
      "\u001b[1;35mStep \u001b[0m\u001b[33mquestion_answerer\u001b[1;35m has started.\u001b[0m\n",
      "Question: What is ZenML?\n",
      "Answer: ZenML is an extensible, open-source MLOps framework for creating portable, production-ready MLOps pipelines. It unifies all your tools in one place and is built for data scientists, ML Engineers, and MLOps Developers to collaborate as they develop to production.\n",
      "\u001b[1;35mStep \u001b[0m\u001b[33mquestion_answerer\u001b[1;35m has finished in 2.648s.\u001b[0m\n",
      "\u001b[1;35mPipeline run \u001b[0m\u001b[33mqa_pipeline-2023_04_11-21_09_35_406117\u001b[1;35m has finished in 2.866s.\u001b[0m\n",
      "\u001b[1;35mPipeline visualization can be seen in the ZenML Dashboard. Run \u001b[0m\u001b[33mzenml up\u001b[1;35m to see your pipeline!\u001b[0m\n"
     ]
    }
   ],
   "source": [
    "from zenml.hub.langchain_qa_example import build_zenml_docs_qa_pipeline\n",
    "\n",
    "\n",
    "pipeline = build_zenml_docs_qa_pipeline(question=\"What is ZenML?\", load_all_paths=False).run()"
   ]
  },
  {
   "attachments": {},
   "cell_type": "markdown",
   "metadata": {},
   "source": [
    "## Using Your Own Docs\n",
    "\n",
    "Let's now dive a bit deeper into the plugin to find out how we can adjust it to\n",
    "answer questions about custom docs pages.\n",
    "\n",
    "If we \n",
    "\n",
    "2. break it down, import steps from hub and rebuild pipeline manually using a different docs source in step 1 parameters"
   ]
  },
  {
   "cell_type": "code",
   "execution_count": 10,
   "metadata": {},
   "outputs": [
    {
     "name": "stdout",
     "output_type": "stream",
     "text": [
      "\u001b[1;35mReusing registered pipeline \u001b[0m\u001b[33mqa_pipeline\u001b[1;35m (version: 1).\u001b[0m\n",
      "\u001b[1;35mRunning pipeline \u001b[0m\u001b[33mqa_pipeline\u001b[1;35m on stack \u001b[0m\u001b[33mdefault\u001b[1;35m (caching enabled)\u001b[0m\n",
      "\u001b[1;35mStep \u001b[0m\u001b[33mdocument_loader\u001b[1;35m has started.\u001b[0m\n",
      "\u001b[1;35mUsing cached version of \u001b[0m\u001b[33mdocument_loader\u001b[1;35m.\u001b[0m\n",
      "\u001b[1;35mStep \u001b[0m\u001b[33mindex_generator\u001b[1;35m has started.\u001b[0m\n",
      "\u001b[1;35mUsing cached version of \u001b[0m\u001b[33mindex_generator\u001b[1;35m.\u001b[0m\n",
      "\u001b[1;35mStep \u001b[0m\u001b[33mquestion_answerer\u001b[1;35m has started.\u001b[0m\n",
      "Question: What is ZenML?\n",
      "Answer: ZenML is an extensible, open-source MLOps framework for creating portable, production-ready MLOps pipelines. It unifies all your tools in one place and is built for data scientists, ML Engineers, and MLOps Developers to collaborate as they develop to production.\n",
      "\u001b[1;35mStep \u001b[0m\u001b[33mquestion_answerer\u001b[1;35m has finished in 2.810s.\u001b[0m\n",
      "\u001b[1;35mPipeline run \u001b[0m\u001b[33mqa_pipeline-2023_04_11-21_09_47_826797\u001b[1;35m has finished in 3.039s.\u001b[0m\n",
      "\u001b[1;35mPipeline visualization can be seen in the ZenML Dashboard. Run \u001b[0m\u001b[33mzenml up\u001b[1;35m to see your pipeline!\u001b[0m\n"
     ]
    }
   ],
   "source": [
    "from zenml.hub.langchain_qa_example import docs_loader_step, index_generator_step, question_answerer_step, qa_pipeline, DocsLoaderParameters, QAParameters\n",
    "\n",
    "qa_pipeline(\n",
    "    document_loader=docs_loader_step(DocsLoaderParameters(docs_uri=\"https://docs.zenml.io\")),\n",
    "    index_generator=index_generator_step(),\n",
    "    question_answerer=question_answerer_step(\n",
    "        QAParameters(question=\"What is ZenML?\")\n",
    "    ),\n",
    ").run()\n"
   ]
  },
  {
   "attachments": {},
   "cell_type": "markdown",
   "metadata": {},
   "source": [
    "## Using a Different Data Source\n",
    "\n",
    "3. swap out a data loader step -> use URL loader instead of docs loader or smth similar"
   ]
  },
  {
   "cell_type": "code",
   "execution_count": 11,
   "metadata": {},
   "outputs": [
    {
     "name": "stdout",
     "output_type": "stream",
     "text": [
      "\u001b[1;35mReusing registered pipeline \u001b[0m\u001b[33mqa_pipeline\u001b[1;35m (version: 2).\u001b[0m\n",
      "\u001b[1;35mRunning pipeline \u001b[0m\u001b[33mqa_pipeline\u001b[1;35m on stack \u001b[0m\u001b[33mdefault\u001b[1;35m (caching enabled)\u001b[0m\n",
      "\u001b[1;35mStep \u001b[0m\u001b[33mdocument_loader\u001b[1;35m has started.\u001b[0m\n",
      "\u001b[1;35mUsing cached version of \u001b[0m\u001b[33mdocument_loader\u001b[1;35m.\u001b[0m\n",
      "\u001b[1;35mStep \u001b[0m\u001b[33mindex_generator\u001b[1;35m has started.\u001b[0m\n",
      "\u001b[1;35mUsing cached version of \u001b[0m\u001b[33mindex_generator\u001b[1;35m.\u001b[0m\n",
      "\u001b[1;35mStep \u001b[0m\u001b[33mquestion_answerer\u001b[1;35m has started.\u001b[0m\n",
      "Question: Name five tools that ZenML integrates with.\n",
      "Answer: Kubeflow, Seldon, MLflow, Apache Airflow, and Weights & Biases.\n",
      "\u001b[1;35mStep \u001b[0m\u001b[33mquestion_answerer\u001b[1;35m has finished in 1.569s.\u001b[0m\n",
      "\u001b[1;35mPipeline run \u001b[0m\u001b[33mqa_pipeline-2023_04_11-21_09_51_900427\u001b[1;35m has finished in 1.787s.\u001b[0m\n",
      "\u001b[1;35mPipeline visualization can be seen in the ZenML Dashboard. Run \u001b[0m\u001b[33mzenml up\u001b[1;35m to see your pipeline!\u001b[0m\n"
     ]
    }
   ],
   "source": [
    "from zenml.hub.langchain_qa_example import web_url_loader_step, WebUrlLoaderParameters\n",
    "\n",
    "qa_pipeline(\n",
    "    document_loader=web_url_loader_step(WebUrlLoaderParameters(urls=[\"https://zenml.io/integrations/\"])),\n",
    "    index_generator=index_generator_step(),\n",
    "    question_answerer=question_answerer_step(\n",
    "        QAParameters(question=\"Name five tools that ZenML integrates with.\")\n",
    "    ),\n",
    ").run()"
   ]
  },
  {
   "attachments": {},
   "cell_type": "markdown",
   "metadata": {},
   "source": [
    "## Submit Your Own Plugin\n",
    "\n",
    "The ZenML Hub is open for community contributions and anyone with a GitHub\n",
    "account can submit plugins. To find out how, check out the\n",
    "[ZenML Hub Plugin Template](https://github.com/zenml-io/zenml-hub-plugin-template).\n",
    "\n",
    "If you would like to learn more about the ZenML Hub in general, check out the\n",
    "[TODO ZenML Hub Documentation](TODO) or the [TODO ZenML Hub Blog Post](TODO)."
   ]
  }
 ],
 "metadata": {
  "kernelspec": {
   "display_name": "zenmllama",
   "language": "python",
   "name": "python3"
  },
  "language_info": {
   "codemirror_mode": {
    "name": "ipython",
    "version": 3
   },
   "file_extension": ".py",
   "mimetype": "text/x-python",
   "name": "python",
   "nbconvert_exporter": "python",
   "pygments_lexer": "ipython3",
   "version": "3.8.13"
  },
  "orig_nbformat": 4
 },
 "nbformat": 4,
 "nbformat_minor": 2
}
